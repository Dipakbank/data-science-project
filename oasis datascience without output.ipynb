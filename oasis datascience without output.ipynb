
{
  "nbformat": 4,
  "nbformat_minor": 0,
  "metadata": {
    "colab": {
      "provenance": []
    },
    "kernelspec": {
      "name": "python3",
      "display_name": "Python 3"
    },
    "language_info": {
      "name": "python"
    }
  },
  "cells": [
    {
      "cell_type": "code",
      "source": [
        "# importing the necessory library\n",
        "import pandas as pd"
      ],
      "metadata": {
        "id": "yqsSy9pZ_snI"
      },
      "execution_count": 1,
      "outputs": []
    },
    {
      "cell_type": "code",
      "source": [
        "# importing data\n",
        "dis = pd.read_csv('https://github.com/ybifoundation/Dataset/raw/main/MultipleDiseasePrediction.csv')"
      ],
      "metadata": {
        "id": "cx_BtPUM__9_"
      },
      "execution_count": 2,
      "outputs": []
    },
    {
      "cell_type": "code",
      "source": [
        "# viewing data\n",
        "dis.head()\n",
        "     "
      ],
      "metadata": {
        "id": "OwJh8AfEACRX"
      },
      "execution_count": null,
      "outputs": []
    },
    {
      "cell_type": "code",
      "source": [
        "# info of data\n",
        "dis.info(verbose = True)"
      ],
      "metadata": {
        "id": "RIflifixAJpi"
      },
      "execution_count": null,
      "outputs": []
    },
    {
      "cell_type": "code",
      "source": [
        "# summary stats\n",
        "dis.describe()"
      ],
      "metadata": {
        "id": "NErlIyVDAO3v"
      },
      "execution_count": null,
      "outputs": []
    },
    {
      "cell_type": "code",
      "source": [
        "# finding missing values\n",
        "dis.isna()"
      ],
      "metadata": {
        "id": "Qu-nnmRWAUfu"
      },
      "execution_count": null,
      "outputs": []
    },
    {
      "cell_type": "code",
      "source": [
        "# caragories of available data in each column\n",
        "dis.dtypes"
      ],
      "metadata": {
        "id": "kfWaf0MAAaG_"
      },
      "execution_count": null,
      "outputs": []
    },
    {
      "cell_type": "code",
      "source": [
        "# correlation\n",
        "dis.corr()"
      ],
      "metadata": {
        "id": "KP-IR7GGAiqv"
      },
      "execution_count": null,
      "outputs": []
    },
    {
      "cell_type": "code",
      "source": [
        "# columns\n",
        "dis.columns"
      ],
      "metadata": {
        "id": "1rxiBt7PAmvP"
      },
      "execution_count": null,
      "outputs": []
    },
    {
      "cell_type": "code",
      "source": [
        "# difining y\n",
        "y = dis['prognosis']\n",
        "\n",
        "# difnining x\n",
        "x = dis.drop(['prognosis'], axis= 1)"
      ],
      "metadata": {
        "id": "L13Av0G6As2n"
      },
      "execution_count": 10,
      "outputs": []
    },
    {
      "cell_type": "code",
      "source": [
        "# train test splitting\n",
        "from sklearn.model_selection import train_test_split\n",
        "x_train, x_test, y_train, y_test = train_test_split(x, y, train_size = 0.75)\n",
        "x_train.shape, x_test.shape, y_train.shape, y_test.shape"
      ],
      "metadata": {
        "colab": {
          "base_uri": "https://localhost:8080/"
        },
        "id": "18iFdEj5A2Bm",
        "outputId": "add154af-d5e2-428e-c2c9-3786b6f133d6"
      },
      "execution_count": 11,
      "outputs": [
        {
          "output_type": "execute_result",
          "data": {
            "text/plain": [
              "((3690, 132), (1230, 132), (3690,), (1230,))"
            ]
          },
          "metadata": {},
          "execution_count": 11
        }
      ]
    },
    {
      "cell_type": "code",
      "source": [
        "# model training\n",
        "from sklearn.ensemble import RandomForestClassifier\n",
        "model = RandomForestClassifier()\n",
        "model.fit(x_train, y_train)\n",
        "y_pred = model.predict(x_test)\n",
        "y_pred.shape"
      ],
      "metadata": {
        "colab": {
          "base_uri": "https://localhost:8080/"
        },
        "id": "ZWL6uJtyA9r-",
        "outputId": "33ede8ce-0ba0-4a0e-913e-0be927e5b3b8"
      },
      "execution_count": 12,
      "outputs": [
        {
          "output_type": "execute_result",
          "data": {
            "text/plain": [
              "(1230,)"
            ]
          },
          "metadata": {},
          "execution_count": 12
        }
      ]
    },
    {
      "cell_type": "code",
      "source": [
        "# Accuracy of model\n",
        "from sklearn.metrics import *\n",
        "a, b, c = accuracy_score(y_pred, y_test) , confusion_matrix(y_pred, y_test), classification_report(y_pred, y_test)\n",
        "print(\"Accuracy score:\")\n",
        "print(a)\n",
        "print(\"coufusion matrix:\")\n",
        "print(b)\n",
        "print(\"classification report:\")\n",
        "print(c)\n"
      ],
      "metadata": {
        "id": "mD53UscWBDUH"
      },
      "execution_count": null,
      "outputs": []
    },
    {
      "cell_type": "code",
      "source": [
        "# furure predictions\n",
        "future_cases = dis.sample(frac = 0.50)\n",
        "x_new = future_cases.drop(['prognosis'], axis = 1)\n",
        "x_new.columns\n",
        "y_newpred = model.predict(x_new)\n",
        "     "
      ],
      "metadata": {
        "id": "s9VpotYJBRzx"
      },
      "execution_count": 14,
      "outputs": []
    }
  ]
}
